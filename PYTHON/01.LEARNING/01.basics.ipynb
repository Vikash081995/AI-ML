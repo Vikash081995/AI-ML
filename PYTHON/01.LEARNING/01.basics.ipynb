{
 "cells": [
  {
   "cell_type": "markdown",
   "id": "8af101ad",
   "metadata": {},
   "source": [
    "## Basic Syntax Rule"
   ]
  },
  {
   "cell_type": "code",
   "execution_count": 1,
   "id": "45c13456",
   "metadata": {},
   "outputs": [
    {
     "name": "stdout",
     "output_type": "stream",
     "text": [
      "krish naik\n",
      "Vj vikash\n"
     ]
    }
   ],
   "source": [
    "name = \"krish naik\"\n",
    "Name =\"Vj vikash\"\n",
    "print(name)\n",
    "print(Name)"
   ]
  },
  {
   "cell_type": "markdown",
   "id": "9c484166",
   "metadata": {},
   "source": [
    "## Indentation"
   ]
  },
  {
   "cell_type": "code",
   "execution_count": 2,
   "id": "2bad1d95",
   "metadata": {},
   "outputs": [
    {
     "name": "stdout",
     "output_type": "stream",
     "text": [
      "You are an adult\n",
      "You can vote\n"
     ]
    }
   ],
   "source": [
    "## Indentation\n",
    "## python uses indentation to define blocks of code\n",
    "\n",
    "age=32\n",
    "if age>18:\n",
    "    print(\"You are an adult\")\n",
    "    print(\"You can vote\")\n",
    "else:\n",
    "    print(\"You are a minor\")\n",
    "    print(\"You cannot vote\")"
   ]
  },
  {
   "cell_type": "code",
   "execution_count": null,
   "id": "98487f2f",
   "metadata": {},
   "outputs": [],
   "source": []
  }
 ],
 "metadata": {
  "kernelspec": {
   "display_name": "base",
   "language": "python",
   "name": "python3"
  },
  "language_info": {
   "codemirror_mode": {
    "name": "ipython",
    "version": 3
   },
   "file_extension": ".py",
   "mimetype": "text/x-python",
   "name": "python",
   "nbconvert_exporter": "python",
   "pygments_lexer": "ipython3",
   "version": "3.12.7"
  }
 },
 "nbformat": 4,
 "nbformat_minor": 5
}
